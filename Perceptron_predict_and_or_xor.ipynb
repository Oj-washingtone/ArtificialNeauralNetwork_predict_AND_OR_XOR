{
 "cells": [
  {
   "cell_type": "code",
   "execution_count": 7,
   "id": "5ca8a0b2",
   "metadata": {},
   "outputs": [],
   "source": [
    "# Artificial neural networks for AND OR and XOR \n",
    "\n",
    "import random\n",
    "\n",
    "learning_rate = 1\n",
    "bias = random.random()\n",
    "\n",
    "\n",
    "# List of weights (weights for the 2 inputs and the bias)\n",
    "weights = [random.random(), random.random(), random.random()]"
   ]
  },
  {
   "cell_type": "code",
   "execution_count": 8,
   "id": "f4d088e9",
   "metadata": {},
   "outputs": [],
   "source": [
    "# Heaviside step function as activation function\n",
    "def activationFunction(outputP):\n",
    "    if outputP > 0:\n",
    "        outputP = 1\n",
    "    else:\n",
    "        outputP = 0\n",
    "    return outputP"
   ]
  },
  {
   "cell_type": "code",
   "execution_count": 9,
   "id": "08523f27",
   "metadata": {},
   "outputs": [],
   "source": [
    "# Perceptrone to solve the problem\n",
    "# X1, X2 are inputs while why is the expected output\n",
    "def perceptron(X1, X2, y):\n",
    "    #perceptron's output OutputP (All the weighted inputs sumed with  bias)\n",
    "    outputP = (weights[0]*X1) + (weights[1]*X2) + (bias * weights[2])\n",
    "     \n",
    "    \n",
    "    #pass output through an ctivation funtion activation function (sigmoid)\n",
    "    outputP = activationFunction(outputP)\n",
    "    \n",
    "    #calculate the error\n",
    "    error = y - outputP\n",
    "   \n",
    "    #adjust the weights and bias\n",
    "    weights[0] += (error * X1 * learning_rate)\n",
    "    weights[1] += (error * X2 * learning_rate)\n",
    "    weights[2] += (error * bias * learning_rate)"
   ]
  },
  {
   "cell_type": "code",
   "execution_count": 10,
   "id": "f336f526",
   "metadata": {},
   "outputs": [],
   "source": [
    "#Training\n",
    "\n",
    "for i in range(50):\n",
    "    perceptron(1, 1, 0) #True XOR T rue\n",
    "    perceptron(1, 0, 1) #True XOR False\n",
    "    perceptron(0, 1, 1) #False XOR True\n",
    "    perceptron(0, 0, 1) #False XOR False"
   ]
  },
  {
   "cell_type": "code",
   "execution_count": 11,
   "id": "6eb6c47e",
   "metadata": {},
   "outputs": [],
   "source": [
    "#Test function\n",
    "def test(X1, X2):\n",
    "    outputP = ((X1 * weights[0]) + (X2 * weights[1]) + (bias * weights[2]))\n",
    "    #Pass output through Activation function\n",
    "    outputP = activationFunction(outputP)\n",
    "    return outputP"
   ]
  },
  {
   "cell_type": "code",
   "execution_count": 12,
   "id": "43328ae6",
   "metadata": {},
   "outputs": [
    {
     "data": {
      "text/plain": [
       "0"
      ]
     },
     "execution_count": 12,
     "metadata": {},
     "output_type": "execute_result"
    }
   ],
   "source": [
    "# Test Perceptron\n",
    "test(1, 1)"
   ]
  },
  {
   "cell_type": "code",
   "execution_count": null,
   "id": "30ed5f98",
   "metadata": {},
   "outputs": [],
   "source": []
  }
 ],
 "metadata": {
  "kernelspec": {
   "display_name": "Python 3",
   "language": "python",
   "name": "python3"
  },
  "language_info": {
   "codemirror_mode": {
    "name": "ipython",
    "version": 3
   },
   "file_extension": ".py",
   "mimetype": "text/x-python",
   "name": "python",
   "nbconvert_exporter": "python",
   "pygments_lexer": "ipython3",
   "version": "3.8.8"
  }
 },
 "nbformat": 4,
 "nbformat_minor": 5
}
